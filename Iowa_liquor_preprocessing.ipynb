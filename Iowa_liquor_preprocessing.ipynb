{
 "cells": [
  {
   "cell_type": "code",
   "execution_count": 1,
   "id": "1a9b1659-d41f-419d-87c3-2a2e631c9903",
   "metadata": {},
   "outputs": [],
   "source": [
    "import pandas as pd\n",
    "\n",
    "import matplotlib.ticker as tick\n",
    "import matplotlib.pylab as plt\n",
    "import seaborn as sns\n",
    "import plotly.express as px\n",
    "from util.reformat_large_tick_values import reformat_large_tick_values as ticker\n",
    "\n",
    "from sqlalchemy.engine import create_engine\n",
    "import warnings\n",
    "warnings.filterwarnings('ignore', message='Cannot create BigQuery Storage client*')"
   ]
  },
  {
   "cell_type": "code",
   "execution_count": 2,
   "id": "d3898e4a-cb00-4054-9370-e4ff640d12e0",
   "metadata": {},
   "outputs": [],
   "source": [
    "engine = create_engine('bigquery://', credentials_path= 'key/iowa-liquor-sales-365322-12ff7a5498e6.json')"
   ]
  },
  {
   "cell_type": "code",
   "execution_count": null,
   "id": "6471b644-c054-46c4-b63c-fff87edc243c",
   "metadata": {},
   "outputs": [],
   "source": [
    "county_liters_sold_sql_statement = \"\"\"\n",
    "WITH \n",
    "source_table AS (\n",
    "  SELECT\n",
    "    volume_sold_liters,\n",
    "    date,\n",
    "    store_number,\n",
    "    county,\n",
    "    EXTRACT(YEAR FROM date) AS year\n",
    "  FROM `bigquery-public-data.iowa_liquor_sales.sales`\n",
    "  WHERE EXTRACT(YEAR FROM date) IN (2018, 2019, 2020, 2021, 2022, 2023)\n",
    "  ),\n",
    "\n",
    "store_county_map AS ( \n",
    "  SELECT \n",
    "    store_number,\n",
    "    MAX(county) AS county\n",
    "  FROM source_table\n",
    "  WHERE store_number IS NOT NULL\n",
    "  GROUP BY store_number\n",
    "  ),\n",
    "\n",
    "joined_table AS (\n",
    "  SELECT a.volume_sold_liters, a.date, a.year, COALESCE(a.county, b.county) AS county\n",
    "  FROM source_table a\n",
    "  LEFT JOIN store_county_map b ON a.store_number = b.store_number\n",
    "  ),\n",
    "\n",
    "cleaned_source_table AS (\n",
    "  SELECT \n",
    "    volume_sold_liters,\n",
    "    date,\n",
    "    year,\n",
    "    county\n",
    "  FROM joined_table\n",
    "  WHERE county IN (\"POLK\", \"LINN\", \"SCOTT\", \"JOHNSON\", \"BLACK HAWK\", \"WOODBURY\", \"DUBUQUE\", \"STORY\", \"DALLAS\", \"POTTAWATTAMIE\")\n",
    "  )\n",
    "\n",
    "SELECT \n",
    "    county,\n",
    "    volume_sold_liters\n",
    "FROM cleaned_source_table\n",
    "LIMIT 1000000\n",
    "\n",
    "  \"\"\".strip()\n",
    "\n",
    "liters_per_county_df = pd.read_sql_query(county_liters_sold_sql_statement, engine)\n",
    "liters_per_county_df['county'] = liters_per_county_df['county'].str.title()\n",
    "liters_per_county_df"
   ]
  },
  {
   "cell_type": "code",
   "execution_count": null,
   "id": "29eec0f6-c06c-48cd-8653-a93bf19a1a96",
   "metadata": {},
   "outputs": [],
   "source": [
    "undersampled_sql_statement = \"\"\"\n",
    "SELECT * \n",
    "FROM `bigquery-public-data.iowa_liquor_sales.sales`\n",
    "TABLESAMPLE SYSTEM (50 PERCENT)\n",
    "\"\"\".strip()\n",
    "undersampled_df = pd.read_sql_query(undersampled_sql_statement, engine)\n",
    "undersampled_df"
   ]
  },
  {
   "cell_type": "code",
   "execution_count": null,
   "id": "7f5974c1-7d2e-47cd-b25b-c81de8bcc67c",
   "metadata": {},
   "outputs": [],
   "source": [
    "undersampled_sql_statement = \"\"\"\n",
    "SELECT * \n",
    "FROM `bigquery-public-data.iowa_liquor_sales.sales`\n",
    "TABLESAMPLE SYSTEM (10 PERCENT)\n",
    "\"\"\".strip()\n",
    "undersampled_df = pd.read_sql_query(undersampled_sql_statement, engine)\n",
    "undersampled_df"
   ]
  },
  {
   "cell_type": "code",
   "execution_count": null,
   "id": "7024fa02-d2d5-461d-9d25-522dc30604f6",
   "metadata": {},
   "outputs": [],
   "source": [
    "undersampled_sql_statement = \"\"\"  \n",
    "SELECT\n",
    "    volume_sold_liters,\n",
    "    date,\n",
    "    store_number,\n",
    "    county,\n",
    "    EXTRACT(YEAR FROM date) AS year\n",
    "  FROM `bigquery-public-data.iowa_liquor_sales.sales`\n",
    "  TABLESAMPLE SYSTEM (10 PERCENT)\n",
    "  WHERE EXTRACT(YEAR FROM date) IN (2018, 2019, 2020, 2021, 2022, 2023) AND county IN (\"POLK\", \"LINN\", \"SCOTT\", \"JOHNSON\", \"BLACK HAWK\", \"WOODBURY\", \"DUBUQUE\", \"STORY\", \"DALLAS\", \"POTTAWATTAMIE\")\n",
    "  \"\"\".strip()\n",
    "undersampled_df = pd.read_sql_query(undersampled_sql_statement, engine)\n",
    "undersampled_df.head(40)"
   ]
  }
 ],
 "metadata": {
  "kernelspec": {
   "display_name": "Python 3 (ipykernel)",
   "language": "python",
   "name": "python3"
  },
  "language_info": {
   "codemirror_mode": {
    "name": "ipython",
    "version": 3
   },
   "file_extension": ".py",
   "mimetype": "text/x-python",
   "name": "python",
   "nbconvert_exporter": "python",
   "pygments_lexer": "ipython3",
   "version": "3.10.13"
  }
 },
 "nbformat": 4,
 "nbformat_minor": 5
}
