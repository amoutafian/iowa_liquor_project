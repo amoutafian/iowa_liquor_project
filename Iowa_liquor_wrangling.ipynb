{
 "cells": [
  {
   "cell_type": "code",
   "execution_count": 1,
   "id": "e20e9eed-62f9-470b-a4ef-15ddebf1ffce",
   "metadata": {},
   "outputs": [],
   "source": [
    "import pandas as pd\n",
    "import matplotlib.ticker as tick\n",
    "import matplotlib.pylab as plt\n",
    "import seaborn as sns\n",
    "\n",
    "from util.reformat_large_tick_values import reformat_large_tick_values\n",
    "from sqlalchemy.engine import create_engine\n",
    "\n",
    "engine = create_engine('bigquery://', credentials_path= 'key/iowa-liquor-sales-365322-12ff7a5498e6.json')"
   ]
  },
  {
   "cell_type": "markdown",
   "id": "38a7cdaa-8d8d-4b20-903c-dc70e4d033b7",
   "metadata": {},
   "source": [
    "# Introduction:  "
   ]
  },
  {
   "cell_type": "markdown",
   "id": "f6a04ed6-40ae-4e47-a843-444f5ba7f5ac",
   "metadata": {},
   "source": [
    "This independent exploratory analysis uses public data on liquor sold in Iowa and US census population data to examine sales trends. This analysis focuses on the ten most populous Iowa counties and the time period 2018-2021. \n",
    "\n",
    "The ten most populous Iowa counties (out of 100 total counties) comprise 52.6% of the adult (18+) population and represent 63% of the state's total liquor sales (by volume)."
   ]
  },
  {
   "cell_type": "markdown",
   "id": "e2653c3d-ab95-4b32-9e99-6bc249e51f79",
   "metadata": {},
   "source": [
    "## Public Datasets"
   ]
  },
  {
   "cell_type": "markdown",
   "id": "49fcc479-1039-48f3-bc6a-9c1ba93d97b1",
   "metadata": {},
   "source": [
    "Iowa Liquor Sales dataset, Iowa Department of Commerce, Alcoholic Beverages Division\n",
    "`bigquery-public-data.iowa_liquor_sales`  \n",
    "Data represents sales to Iowa Class \"E\" liquor licensees. Examples include grocery stores, liquor stores etc. which sell liquor for off-premises consumption. Unaggregated dataset stored in BigQuery.\n",
    "\n",
    "\n",
    "Population data, United States Census Bureau, https://www.census.gov/quickfacts/fact/table/IA/POP010220\n",
    "Accurate population numbers are limited to 2020, the year of the US census. In this analysis, population counts and percent minors for 2020 are used for all years."
   ]
  },
  {
   "cell_type": "markdown",
   "id": "c0ce8b76-4c88-44a8-9d48-880b3f1e46fc",
   "metadata": {},
   "source": [
    "## Import Census Data\n",
    "#### Data taken directly from US census website. No additional cleaning performed. "
   ]
  },
  {
   "cell_type": "code",
   "execution_count": 2,
   "id": "3308eb77-3f3a-482b-9c63-eb678f5f4932",
   "metadata": {},
   "outputs": [
    {
     "data": {
      "text/html": [
       "<div>\n",
       "<style scoped>\n",
       "    .dataframe tbody tr th:only-of-type {\n",
       "        vertical-align: middle;\n",
       "    }\n",
       "\n",
       "    .dataframe tbody tr th {\n",
       "        vertical-align: top;\n",
       "    }\n",
       "\n",
       "    .dataframe thead th {\n",
       "        text-align: right;\n",
       "    }\n",
       "</style>\n",
       "<table border=\"1\" class=\"dataframe\">\n",
       "  <thead>\n",
       "    <tr style=\"text-align: right;\">\n",
       "      <th></th>\n",
       "      <th>county</th>\n",
       "      <th>population</th>\n",
       "      <th>percent_minors</th>\n",
       "    </tr>\n",
       "  </thead>\n",
       "  <tbody>\n",
       "    <tr>\n",
       "      <th>0</th>\n",
       "      <td>POLK</td>\n",
       "      <td>492401</td>\n",
       "      <td>0.245</td>\n",
       "    </tr>\n",
       "    <tr>\n",
       "      <th>1</th>\n",
       "      <td>LINN</td>\n",
       "      <td>230299</td>\n",
       "      <td>0.228</td>\n",
       "    </tr>\n",
       "    <tr>\n",
       "      <th>2</th>\n",
       "      <td>SCOTT</td>\n",
       "      <td>174669</td>\n",
       "      <td>0.235</td>\n",
       "    </tr>\n",
       "    <tr>\n",
       "      <th>3</th>\n",
       "      <td>JOHNSON</td>\n",
       "      <td>152854</td>\n",
       "      <td>0.197</td>\n",
       "    </tr>\n",
       "    <tr>\n",
       "      <th>4</th>\n",
       "      <td>BLACK HAWK</td>\n",
       "      <td>131144</td>\n",
       "      <td>0.220</td>\n",
       "    </tr>\n",
       "    <tr>\n",
       "      <th>5</th>\n",
       "      <td>WOODBURY</td>\n",
       "      <td>105941</td>\n",
       "      <td>0.262</td>\n",
       "    </tr>\n",
       "    <tr>\n",
       "      <th>6</th>\n",
       "      <td>DUBUQUE</td>\n",
       "      <td>99266</td>\n",
       "      <td>0.227</td>\n",
       "    </tr>\n",
       "    <tr>\n",
       "      <th>7</th>\n",
       "      <td>STORY</td>\n",
       "      <td>98537</td>\n",
       "      <td>0.164</td>\n",
       "    </tr>\n",
       "    <tr>\n",
       "      <th>8</th>\n",
       "      <td>DALLAS</td>\n",
       "      <td>99678</td>\n",
       "      <td>0.269</td>\n",
       "    </tr>\n",
       "    <tr>\n",
       "      <th>9</th>\n",
       "      <td>POTTAWATTAMIE</td>\n",
       "      <td>93667</td>\n",
       "      <td>0.234</td>\n",
       "    </tr>\n",
       "  </tbody>\n",
       "</table>\n",
       "</div>"
      ],
      "text/plain": [
       "          county  population  percent_minors\n",
       "0           POLK      492401           0.245\n",
       "1           LINN      230299           0.228\n",
       "2          SCOTT      174669           0.235\n",
       "3        JOHNSON      152854           0.197\n",
       "4     BLACK HAWK      131144           0.220\n",
       "5       WOODBURY      105941           0.262\n",
       "6        DUBUQUE       99266           0.227\n",
       "7          STORY       98537           0.164\n",
       "8         DALLAS       99678           0.269\n",
       "9  POTTAWATTAMIE       93667           0.234"
      ]
     },
     "execution_count": 2,
     "metadata": {},
     "output_type": "execute_result"
    }
   ],
   "source": [
    "census_data_df = pd.read_csv('data/census_data.csv')\n",
    "census_data_df"
   ]
  },
  {
   "cell_type": "markdown",
   "id": "2fa0adc6-d64e-438e-a5a1-0bf7255fd2d1",
   "metadata": {},
   "source": [
    "# Cleaning Liquor Sales Data"
   ]
  },
  {
   "cell_type": "markdown",
   "id": "e3d05840-dad5-4dc2-90ef-65a25423e2a7",
   "metadata": {},
   "source": [
    "## Duplicate Check"
   ]
  },
  {
   "cell_type": "code",
   "execution_count": 3,
   "id": "794fc389-035b-4c18-863a-77a31c730623",
   "metadata": {},
   "outputs": [
    {
     "name": "stderr",
     "output_type": "stream",
     "text": [
      "/Users/anooshmoutafian/anaconda3/lib/python3.10/site-packages/google/cloud/bigquery/client.py:581: UserWarning: Cannot create BigQuery Storage client, the dependency google-cloud-bigquery-storage is not installed.\n",
      "  warnings.warn(\n"
     ]
    },
    {
     "data": {
      "text/html": [
       "<div>\n",
       "<style scoped>\n",
       "    .dataframe tbody tr th:only-of-type {\n",
       "        vertical-align: middle;\n",
       "    }\n",
       "\n",
       "    .dataframe tbody tr th {\n",
       "        vertical-align: top;\n",
       "    }\n",
       "\n",
       "    .dataframe thead th {\n",
       "        text-align: right;\n",
       "    }\n",
       "</style>\n",
       "<table border=\"1\" class=\"dataframe\">\n",
       "  <thead>\n",
       "    <tr style=\"text-align: right;\">\n",
       "      <th></th>\n",
       "      <th>distinct_rows</th>\n",
       "      <th>total_rows</th>\n",
       "    </tr>\n",
       "  </thead>\n",
       "  <tbody>\n",
       "    <tr>\n",
       "      <th>0</th>\n",
       "      <td>29006010</td>\n",
       "      <td>29006010</td>\n",
       "    </tr>\n",
       "  </tbody>\n",
       "</table>\n",
       "</div>"
      ],
      "text/plain": [
       "   distinct_rows  total_rows\n",
       "0       29006010    29006010"
      ]
     },
     "execution_count": 3,
     "metadata": {},
     "output_type": "execute_result"
    }
   ],
   "source": [
    "#Check all rows of unaggregated dataset for duplicate invoice number\n",
    "duplicate_check_sql_statement = \"\"\"\n",
    "SELECT COUNT(DISTINCT invoice_and_item_number) AS distinct_rows, COUNT(*) AS total_rows\n",
    "FROM `bigquery-public-data.iowa_liquor_sales.sales`\n",
    "\"\"\".strip()\n",
    "duplicate_check_sql_statement= pd.read_sql_query(duplicate_check_sql_statement, engine)\n",
    "duplicate_check_sql_statement"
   ]
  },
  {
   "cell_type": "markdown",
   "id": "37d0ccea-42e9-44a8-9d2b-656da6ee1407",
   "metadata": {},
   "source": [
    "## This shows that all rows are unique. "
   ]
  },
  {
   "cell_type": "code",
   "execution_count": 8,
   "id": "bd1015a9-afa6-4e30-ae52-9da7f709d5d7",
   "metadata": {},
   "outputs": [
    {
     "data": {
      "text/html": [
       "<div>\n",
       "<style scoped>\n",
       "    .dataframe tbody tr th:only-of-type {\n",
       "        vertical-align: middle;\n",
       "    }\n",
       "\n",
       "    .dataframe tbody tr th {\n",
       "        vertical-align: top;\n",
       "    }\n",
       "\n",
       "    .dataframe thead th {\n",
       "        text-align: right;\n",
       "    }\n",
       "</style>\n",
       "<table border=\"1\" class=\"dataframe\">\n",
       "  <thead>\n",
       "    <tr style=\"text-align: right;\">\n",
       "      <th></th>\n",
       "      <th>county_count</th>\n",
       "    </tr>\n",
       "  </thead>\n",
       "  <tbody>\n",
       "    <tr>\n",
       "      <th>0</th>\n",
       "      <td>100</td>\n",
       "    </tr>\n",
       "  </tbody>\n",
       "</table>\n",
       "</div>"
      ],
      "text/plain": [
       "   county_count\n",
       "0           100"
      ]
     },
     "execution_count": 8,
     "metadata": {},
     "output_type": "execute_result"
    }
   ],
   "source": [
    "county_names_check_sql_statement = \"\"\"SELECT COUNT(DISTINCT county) AS county_count\n",
    "FROM `bigquery-public-data.iowa_liquor_sales.sales`\"\"\"\n",
    "county_names_check = pd.read_sql_query(county_names_check_sql_statement, engine)\n",
    "county_names_check"
   ]
  },
  {
   "cell_type": "markdown",
   "id": "3c8a80c6-a589-4855-87ad-cf03268118d1",
   "metadata": {},
   "source": [
    "## This shows there are 100 distinct counties, which is correct. Iowa has 100 counties. "
   ]
  },
  {
   "cell_type": "markdown",
   "id": "8db32b7e-2fa0-4753-8338-11bab86d2c1a",
   "metadata": {},
   "source": [
    "## Null check"
   ]
  },
  {
   "cell_type": "code",
   "execution_count": 5,
   "id": "4414787f-f7dd-46e0-af70-7f3fc7a324bd",
   "metadata": {},
   "outputs": [
    {
     "data": {
      "text/html": [
       "<div>\n",
       "<style scoped>\n",
       "    .dataframe tbody tr th:only-of-type {\n",
       "        vertical-align: middle;\n",
       "    }\n",
       "\n",
       "    .dataframe tbody tr th {\n",
       "        vertical-align: top;\n",
       "    }\n",
       "\n",
       "    .dataframe thead th {\n",
       "        text-align: right;\n",
       "    }\n",
       "</style>\n",
       "<table border=\"1\" class=\"dataframe\">\n",
       "  <thead>\n",
       "    <tr style=\"text-align: right;\">\n",
       "      <th></th>\n",
       "      <th>percent_null_liters_sold</th>\n",
       "    </tr>\n",
       "  </thead>\n",
       "  <tbody>\n",
       "    <tr>\n",
       "      <th>0</th>\n",
       "      <td>0.0</td>\n",
       "    </tr>\n",
       "  </tbody>\n",
       "</table>\n",
       "</div>"
      ],
      "text/plain": [
       "   percent_null_liters_sold\n",
       "0                       0.0"
      ]
     },
     "execution_count": 5,
     "metadata": {},
     "output_type": "execute_result"
    }
   ],
   "source": [
    "#Null check on Iowa Liquor Sales dataset column: volume_sold_liters\n",
    "null_check_liters_sold_sql_statement = \"\"\"\n",
    "SELECT \n",
    "  countif(volume_sold_liters is null) / count(1) * 100 as percent_null_liters_sold\n",
    "FROM `bigquery-public-data.iowa_liquor_sales.sales` \n",
    "WHERE EXTRACT(YEAR from date) IN (2017, 2018, 2019, 2020, 2021, 2022, 2023)\n",
    "  \"\"\".strip()\n",
    "percent_null_liters_sold = pd.read_sql_query(null_check_liters_sold_sql_statement, engine)\n",
    "percent_null_liters_sold"
   ]
  },
  {
   "cell_type": "code",
   "execution_count": 6,
   "id": "6e394da0-2e16-4a51-a230-2ae61f960b78",
   "metadata": {},
   "outputs": [
    {
     "data": {
      "text/html": [
       "<div>\n",
       "<style scoped>\n",
       "    .dataframe tbody tr th:only-of-type {\n",
       "        vertical-align: middle;\n",
       "    }\n",
       "\n",
       "    .dataframe tbody tr th {\n",
       "        vertical-align: top;\n",
       "    }\n",
       "\n",
       "    .dataframe thead th {\n",
       "        text-align: right;\n",
       "    }\n",
       "</style>\n",
       "<table border=\"1\" class=\"dataframe\">\n",
       "  <thead>\n",
       "    <tr style=\"text-align: right;\">\n",
       "      <th></th>\n",
       "      <th>percent_null_county</th>\n",
       "    </tr>\n",
       "  </thead>\n",
       "  <tbody>\n",
       "    <tr>\n",
       "      <th>0</th>\n",
       "      <td>0.304728</td>\n",
       "    </tr>\n",
       "  </tbody>\n",
       "</table>\n",
       "</div>"
      ],
      "text/plain": [
       "   percent_null_county\n",
       "0             0.304728"
      ]
     },
     "execution_count": 6,
     "metadata": {},
     "output_type": "execute_result"
    }
   ],
   "source": [
    "#Null check on Iowa Liquor Sales dataset column: county\n",
    "null_check_county_sql_statement = \"\"\"SELECT \n",
    "  countif(county is null) / count(1) * 100 as percent_null_county\n",
    "FROM `bigquery-public-data.iowa_liquor_sales.sales` \n",
    "WHERE EXTRACT(YEAR from date) IN (2017, 2018, 2019, 2020, 2021, 2022, 2023)\n",
    "  \"\"\".strip()\n",
    "percent_null_county = pd.read_sql_query(null_check_county_sql_statement, engine)\n",
    "percent_null_county"
   ]
  },
  {
   "cell_type": "markdown",
   "id": "e70e8317-116d-449f-a90a-c7161361055f",
   "metadata": {},
   "source": [
    ".3% of values in the county column are null. The store_number column has no nulls. There are 2,299 distinct store numbers, only two are missing valid county name. \n",
    "\n",
    "Strategy: Clean county column by mapping each store number to a valid county name."
   ]
  },
  {
   "cell_type": "code",
   "execution_count": 16,
   "id": "3f89cead-c9d9-45aa-a808-bcf51ea5d198",
   "metadata": {},
   "outputs": [
    {
     "data": {
      "text/html": [
       "<div>\n",
       "<style scoped>\n",
       "    .dataframe tbody tr th:only-of-type {\n",
       "        vertical-align: middle;\n",
       "    }\n",
       "\n",
       "    .dataframe tbody tr th {\n",
       "        vertical-align: top;\n",
       "    }\n",
       "\n",
       "    .dataframe thead th {\n",
       "        text-align: right;\n",
       "    }\n",
       "</style>\n",
       "<table border=\"1\" class=\"dataframe\">\n",
       "  <thead>\n",
       "    <tr style=\"text-align: right;\">\n",
       "      <th></th>\n",
       "      <th>percent_null_county</th>\n",
       "    </tr>\n",
       "  </thead>\n",
       "  <tbody>\n",
       "    <tr>\n",
       "      <th>0</th>\n",
       "      <td>0.006698</td>\n",
       "    </tr>\n",
       "  </tbody>\n",
       "</table>\n",
       "</div>"
      ],
      "text/plain": [
       "   percent_null_county\n",
       "0             0.006698"
      ]
     },
     "execution_count": 16,
     "metadata": {},
     "output_type": "execute_result"
    }
   ],
   "source": [
    "cleaned_null_check_county_sql_statement = \"\"\"\n",
    "WITH \n",
    "source_table AS (\n",
    "  SELECT\n",
    "    volume_sold_liters,\n",
    "    date,\n",
    "    EXTRACT(YEAR FROM date) AS year,\n",
    "    county,\n",
    "    store_number\n",
    "  FROM `bigquery-public-data.iowa_liquor_sales.sales`\n",
    "  WHERE EXTRACT(YEAR FROM date) IN (2017, 2018, 2019, 2020, 2021,2022, 2023)\n",
    "  ),\n",
    "\n",
    "store_county_map AS ( \n",
    "  SELECT \n",
    "    store_number,\n",
    "  MAX(county) AS county\n",
    "  FROM source_table\n",
    "  WHERE store_number IS NOT NULL\n",
    "  GROUP BY store_number\n",
    "  ),\n",
    "\n",
    "joined_table AS (\n",
    "  SELECT a.volume_sold_liters, a.date, a.year, a.store_number, COALESCE(a.county, b.county) AS county\n",
    "  FROM source_table a\n",
    "  LEFT JOIN store_county_map b ON a.store_number = b.store_number\n",
    "  ),\n",
    "\n",
    " null_check_county AS (\n",
    "   SELECT countif(county is null) / count(1) * 100 as percent_null_county\n",
    "FROM joined_table)\n",
    "\n",
    "SELECT * FROM null_check_county\n",
    "  \"\"\".strip()\n",
    "\n",
    "cleaned_percent_null_county = pd.read_sql_query(cleaned_null_check_county_sql_statement, engine)\n",
    "cleaned_percent_null_county"
   ]
  },
  {
   "cell_type": "markdown",
   "id": "07e4b27c-44ca-4034-903b-2d2d345c6efa",
   "metadata": {},
   "source": [
    "County column nulls reduced from 0.304728% to  0.006698%"
   ]
  },
  {
   "cell_type": "markdown",
   "id": "0eef2fcd-446a-45c0-bda8-11b82a48d777",
   "metadata": {},
   "source": [
    "Adult population was extrapolated using the \"Persons under 18 years, percent\" census data column as no counts are available for 21 years and older."
   ]
  },
  {
   "cell_type": "code",
   "execution_count": null,
   "id": "cec8e480-4448-45d0-a08f-874a88e405ec",
   "metadata": {},
   "outputs": [],
   "source": []
  }
 ],
 "metadata": {
  "kernelspec": {
   "display_name": "Python 3 (ipykernel)",
   "language": "python",
   "name": "python3"
  },
  "language_info": {
   "codemirror_mode": {
    "name": "ipython",
    "version": 3
   },
   "file_extension": ".py",
   "mimetype": "text/x-python",
   "name": "python",
   "nbconvert_exporter": "python",
   "pygments_lexer": "ipython3",
   "version": "3.10.13"
  }
 },
 "nbformat": 4,
 "nbformat_minor": 5
}
