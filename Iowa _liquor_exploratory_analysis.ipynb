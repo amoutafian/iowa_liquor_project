{
 "cells": [
  {
   "cell_type": "markdown",
   "id": "c9a67cf7-4a06-4bcb-858b-8bdc051ddbc0",
   "metadata": {},
   "source": [
    "# Library imports"
   ]
  },
  {
   "cell_type": "code",
   "execution_count": null,
   "id": "a3db126f-5229-430e-9ba0-d46aacd61730",
   "metadata": {},
   "outputs": [],
   "source": [
    "import pandas as pd\n",
    "import matplotlib.ticker as tick\n",
    "import matplotlib.pylab as plt\n",
    "import seaborn as sns\n",
    "\n",
    "from util.reformat_large_tick_values import reformat_large_tick_values\n",
    "from sqlalchemy.engine import create_engine"
   ]
  },
  {
   "cell_type": "code",
   "execution_count": null,
   "id": "eb69e0f2-83a2-41fe-a43d-b6764245616f",
   "metadata": {},
   "outputs": [],
   "source": [
    "engine = create_engine('bigquery://', credentials_path= 'key/iowa-liquor-sales-365322-12ff7a5498e6.json')"
   ]
  },
  {
   "cell_type": "markdown",
   "id": "03ae0bab-6b8f-43dc-8f23-24395a891a6a",
   "metadata": {},
   "source": [
    "# Data imports"
   ]
  },
  {
   "cell_type": "code",
   "execution_count": null,
   "id": "eb60fd0d-da88-4499-8da7-9bb0bf633bfe",
   "metadata": {},
   "outputs": [],
   "source": [
    "census_data_df = pd.read_csv('data/census_data.csv')\n",
    "census_data_df"
   ]
  },
  {
   "cell_type": "markdown",
   "id": "11536ff5-2df6-4143-8bf3-d9ab39324ae2",
   "metadata": {},
   "source": [
    "# Visual feature exploration"
   ]
  },
  {
   "cell_type": "code",
   "execution_count": null,
   "id": "9eb2cdaf-b193-4a11-8729-6f1ac439220d",
   "metadata": {},
   "outputs": [],
   "source": []
  },
  {
   "cell_type": "markdown",
   "id": "4904bd40-c714-4c56-b4fa-accb4b158fc0",
   "metadata": {},
   "source": [
    "# Statistical methods to identify relationship strengths"
   ]
  },
  {
   "cell_type": "code",
   "execution_count": null,
   "id": "954e592d-6d4c-4c3c-8736-e21700522106",
   "metadata": {},
   "outputs": [],
   "source": [
    "#Pearsons correlation coefficients"
   ]
  }
 ],
 "metadata": {
  "kernelspec": {
   "display_name": "Python 3 (ipykernel)",
   "language": "python",
   "name": "python3"
  },
  "language_info": {
   "codemirror_mode": {
    "name": "ipython",
    "version": 3
   },
   "file_extension": ".py",
   "mimetype": "text/x-python",
   "name": "python",
   "nbconvert_exporter": "python",
   "pygments_lexer": "ipython3",
   "version": "3.10.13"
  }
 },
 "nbformat": 4,
 "nbformat_minor": 5
}
